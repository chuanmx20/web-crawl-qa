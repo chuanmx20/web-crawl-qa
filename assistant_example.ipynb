{
 "cells": [
  {
   "cell_type": "code",
   "execution_count": 10,
   "metadata": {},
   "outputs": [],
   "source": [
    "import openai\n",
    "from utils.assistant import create_therad_and_run, upload_file, create_retrieval_assistant\n",
    "from openai import OpenAI\n",
    "client = OpenAI()\n"
   ]
  },
  {
   "cell_type": "code",
   "execution_count": 1,
   "metadata": {},
   "outputs": [],
   "source": [
    "html = \"\"\"\n",
    "# TODO: paste your html content here\n",
    "\"\"\"\n",
    "url = \"\"\"# TODO: url of the page you want to upload\"\"\"\n",
    "with open(\"index.html\", \"w\") as f:\n",
    "    f.write(html)\n",
    "file_id = client.files.create(file=open(\"index.html\" 'rb'), purpose='assistants').id"
   ]
  },
  {
   "cell_type": "code",
   "execution_count": null,
   "metadata": {},
   "outputs": [],
   "source": [
    "assistant_instructions = \"\"\"\n",
    "# TODO:\n",
    "your assistant instructions here\n",
    "\"\"\"\n",
    "assistant_id = create_retrieval_assistant(assistant_instructions, file_id)"
   ]
  },
  {
   "cell_type": "code",
   "execution_count": null,
   "metadata": {},
   "outputs": [],
   "source": [
    "import prompts\n",
    "guide = \"\"\"\n",
    "# TODO: write guidance to assistant\n",
    "\"\"\"\n",
    "problem = \"Ask a problem about the page\"\n",
    "prompt =prompts.assistant_qa_template.format(guide=guide, url=utl, problem=problem)"
   ]
  },
  {
   "cell_type": "code",
   "execution_count": null,
   "metadata": {},
   "outputs": [],
   "source": [
    "create_therad_and_run(prompt, assistant_id, file_id)"
   ]
  }
 ],
 "metadata": {
  "kernelspec": {
   "display_name": "venv",
   "language": "python",
   "name": "python3"
  },
  "language_info": {
   "codemirror_mode": {
    "name": "ipython",
    "version": 3
   },
   "file_extension": ".py",
   "mimetype": "text/x-python",
   "name": "python",
   "nbconvert_exporter": "python",
   "pygments_lexer": "ipython3",
   "version": "3.11.5"
  }
 },
 "nbformat": 4,
 "nbformat_minor": 2
}
